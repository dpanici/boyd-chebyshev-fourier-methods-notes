{
 "cells": [
  {
   "cell_type": "markdown",
   "id": "835a3d89-27ec-4ec1-a21f-f7e996fdf792",
   "metadata": {},
   "source": [
    "# imports"
   ]
  },
  {
   "cell_type": "code",
   "execution_count": 1,
   "id": "d21790bd-a3bf-41fd-9dc0-fe8d404737cd",
   "metadata": {},
   "outputs": [],
   "source": [
    "import numpy as np\n",
    "import matplotlib.pyplot as plt\n",
    "# maybe a timer too eventually"
   ]
  },
  {
   "cell_type": "markdown",
   "id": "b5a92d59-a330-481b-865e-377ed1a12013",
   "metadata": {},
   "source": [
    "# Chapter 1: Introduction"
   ]
  },
  {
   "cell_type": "markdown",
   "id": "167bc30b-e008-48f0-b0f3-14b4ed26ff28",
   "metadata": {},
   "source": [
    "Basically, a differential equation \n",
    "\n",
    "$\n",
    "Lu = f(xu)\n",
    "$\n",
    "\n",
    "can be solved by letting\n",
    "\n",
    "$\n",
    "u = u_N(x) = \\sum_{n=0}^N a_n \\phi_n(x)\n",
    "$\n",
    "\n",
    "where $\\phi_n(x)$ are basis functions.\n",
    "\n",
    "Then, we solve the problem by **minimizing the residual** $R := Lu_N - f(x,u)$\n",
    "which is evaluated at certain **collocation nodes* ${x_i}$\n",
    "\n",
    "$R(x_i,u_2)=0$ is a system of linear (or nonlinear, if ODE/PDE is nonlinear) equations\n",
    " - if $N_{collocation} = N_{coefficients}$, can simply **invert** the system\n",
    "   - if $L$ is a linear operator, then this is like $A\\mathbf{x}=\\mathbf{b}$ where $\\mathbf{x}={a_n}$ are your basis coefficients, $\\mathbf{b}$ is your function $f(x,u)$\n",
    "   - if $L$ a nonlinear operator, then this is no longer a simple matrix problem because now terms like $u^2$ may appear which means you will have terms like $a_i^2$ once you\n",
    "     plug back in the expanded function into the differential equation, so you can no longer write it out as $A\\mathbf{x}=\\mathbf{b}$\n",
    " - else if $N_{collocation} > N_{coefficients}$, can do a **pseudoinverse** (or Newton method) to find the coefficients that minimize $R$ in a least-squares sense\n",
    " "
   ]
  },
  {
   "cell_type": "markdown",
   "id": "4091716d-c9cd-4760-8004-ad67ef78a8d4",
   "metadata": {},
   "source": [
    "## 1.2 First Example\n",
    "Linear 1D BVP\n",
    "\n",
    "$\n",
    "u_{xx} - (x^6 + 3x^2)u = 0\n",
    "$\n",
    "\n",
    "$\n",
    "u(-1)=u(1)=1\n",
    "$\n",
    "\n",
    "with exact solution\n",
    "\n",
    "$\n",
    "u(x) = exp([x^4-1]/4)\n",
    "$\n",
    "\n",
    "Procedure:\n",
    "\n",
    " - Pick what spectral basis to use\n",
    "   - we'll choose a polynomial approximation with 3 DOF, of a form s.t. the BCs are satisfied:\n",
    "   \n",
    "   $\n",
    "   u_2(x) = 1+ (1-x^2)(a_0 + a_1x + a_2x^2)\n",
    "   $\n",
    "   \n",
    "     where  BC are taken care of by first term basically\n",
    " - define Residual function as (basically plug $u=u_2$ into original diff eq)\n",
    " \n",
    " $\n",
    " R(x;a_0,a_1,a_2) = u_{2,xx} - (x^6 + 3x^2)u_2\n",
    " $\n",
    " \n",
    " - Choose collocation points to satisfy R=0 at (we need 3 if we want to exactly solve as we have 3 DOF)\n",
    "\n",
    "x_i = {-1/2,0,1/2)\n",
    "\n",
    "\n",
    " - Solve $R(x_i;a_0,a_1,a_2)=0$ for $a_0,a_1,a_2$, this is a linear eqn so can exactly solve it\n"
   ]
  },
  {
   "cell_type": "code",
   "execution_count": 2,
   "id": "c4dae811-b431-4edd-8508-a7058bd01c1c",
   "metadata": {},
   "outputs": [],
   "source": [
    "import sympy as sym\n",
    "a0 = sym.Symbol('a0')\n",
    "a1 = sym.Symbol('a1')\n",
    "a2 = sym.Symbol('a2')\n",
    "\n",
    "def u2(x,a0,a1,a2):\n",
    "    return 1+ (1-x**2)*(a0 + a1*x + a2*x**2)\n",
    "def R(x,a0,a1,a2):\n",
    "    return -2*(a0+3*a1*x+a2*(6*x**2-1)) - (x**6 + 3*x**2)*u2(x,a0,a1,a2)\n"
   ]
  },
  {
   "cell_type": "code",
   "execution_count": 10,
   "id": "14812f9b-867a-462c-bc52-17af3304b7c2",
   "metadata": {},
   "outputs": [],
   "source": [
    "soln=sym.solve((R(-1/2,a0,a1,a2),R(0,a0,a1,a2),R(1/2,a0,a1,a2)),(a0,a1,a2))"
   ]
  },
  {
   "cell_type": "code",
   "execution_count": 21,
   "id": "dc8c5833-58b1-4fe9-94d2-51fb040cde3e",
   "metadata": {},
   "outputs": [],
   "source": [
    "keys=list(soln.keys())"
   ]
  },
  {
   "cell_type": "code",
   "execution_count": 22,
   "id": "6a1e1398-e852-4d80-ba0e-76e13a22bbac",
   "metadata": {},
   "outputs": [
    {
     "data": {
      "image/png": "[encoded data removed]",
      "text/plain": [
       "<Figure size 432x288 with 1 Axes>"
      ]
     },
     "metadata": {
      "needs_background": "light"
     },
     "output_type": "display_data"
    }
   ],
   "source": [
    "plt.figure()\n",
    "x=np.linspace(-1,1,100)\n",
    "plt.plot(x,np.exp((x**4-1)/4),label='exact')\n",
    "plt.scatter(x,u2(x,soln[keys[0]],soln[keys[1]],soln[keys[2]]))\n",
    "plt.legend\n",
    "plt.show()"
   ]
  },
  {
   "cell_type": "code",
   "execution_count": null,
   "id": "5fa32035-e718-457e-a2c8-c826d7b8a8d1",
   "metadata": {},
   "outputs": [],
   "source": []
  }
 ],
 "metadata": {
  "kernelspec": {
   "display_name": "Python 3 (ipykernel)",
   "language": "python",
   "name": "python3"
  },
  "language_info": {
   "codemirror_mode": {
    "name": "ipython",
    "version": 3
   },
   "file_extension": ".py",
   "mimetype": "text/x-python",
   "name": "python",
   "nbconvert_exporter": "python",
   "pygments_lexer": "ipython3",
   "version": "3.8.5"
  }
 },
 "nbformat": 4,
 "nbformat_minor": 5
}
